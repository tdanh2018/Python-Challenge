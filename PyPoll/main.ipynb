{
 "cells": [
  {
   "cell_type": "code",
   "execution_count": 8,
   "metadata": {},
   "outputs": [],
   "source": [
    "import os\n",
    "import csv\n",
    "\n"
   ]
  },
  {
   "cell_type": "code",
   "execution_count": 9,
   "metadata": {},
   "outputs": [],
   "source": [
    "filepath = os.path.join('.', 'Resources', 'election_data.csv')\n"
   ]
  },
  {
   "cell_type": "code",
   "execution_count": 10,
   "metadata": {},
   "outputs": [],
   "source": [
    "with open(filepath, newline='') as csvfile:\n",
    "\n",
    "    csvreader = csv.reader(csvfile, delimiter=',')\n",
    "\n",
    "    csv_header = next(csvreader)\n",
    "\n",
    "    candidate_list = [candidate[2] for candidate in csvreader]\n",
    "    \n"
   ]
  },
  {
   "cell_type": "code",
   "execution_count": 11,
   "metadata": {},
   "outputs": [],
   "source": [
    "total_votes = len(candidate_list)\n",
    "\n"
   ]
  },
  {
   "cell_type": "code",
   "execution_count": 12,
   "metadata": {},
   "outputs": [],
   "source": [
    "canditates_info = [[candidate,candidate_list.count(candidate)] for candidate in set(candidate_list)]\n",
    "\n",
    "canditates_info = sorted(canditates_info, key=lambda x: x[1], reverse=True)\n"
   ]
  },
  {
   "cell_type": "code",
   "execution_count": 13,
   "metadata": {},
   "outputs": [
    {
     "name": "stdout",
     "output_type": "stream",
     "text": [
      "Election Results\n",
      "-------------------------\n",
      "Total Votes: 369711\n",
      "-------------------------\n",
      "Diana DeGette: 73.812% (272892)\n",
      "Charles Casper Stockham: 23.049% (85213)\n",
      "Raymon Anthony Doane:  3.139% (11606)\n",
      "-------------------------\n",
      "Winner: Diana DeGette\n",
      "-------------------------\n"
     ]
    }
   ],
   "source": [
    "print(\"Election Results\")\n",
    "print(\"-------------------------\")\n",
    "print(f\"Total Votes: {total_votes}\")\n",
    "print(\"-------------------------\")\n",
    "\n",
    "for candidate in canditates_info:\n",
    "    percent_votes = (candidate[1] / total_votes) * 100\n",
    "    print(f'{candidate[0]}: {percent_votes:6.3f}% ({candidate[1]})')\n",
    "\n",
    "print(\"-------------------------\")\n",
    "print(f\"Winner: {canditates_info[0][0]}\")\n",
    "print(\"-------------------------\")"
   ]
  },
  {
   "cell_type": "code",
   "execution_count": 14,
   "metadata": {},
   "outputs": [],
   "source": [
    "filepath = os.path.join('.', 'Analysis', 'PyPoll_Output.txt')\n",
    "with open(filepath, \"w\") as text_file:\n",
    "    print(\"Election Results\", file=text_file)\n",
    "    print(\"-------------------------\", file=text_file)\n",
    "    print(f\"Total Votes: {total_votes}\", file=text_file)\n",
    "    print(\"-------------------------\", file=text_file)\n",
    "\n",
    "    for candidate in canditates_info:\n",
    "        percent_votes = (candidate[1] / total_votes) * 100\n",
    "        print(f'{candidate[0]}: {percent_votes:6.3f}% ({candidate[1]})', file=text_file)\n",
    "\n",
    "    print(\"-------------------------\", file=text_file)\n",
    "    print(f\"Winner: {canditates_info[0][0]}\", file=text_file)\n",
    "    print(\"-------------------------\", file=text_file)\n"
   ]
  }
 ],
 "metadata": {
  "kernelspec": {
   "display_name": "base",
   "language": "python",
   "name": "python3"
  },
  "language_info": {
   "codemirror_mode": {
    "name": "ipython",
    "version": 3
   },
   "file_extension": ".py",
   "mimetype": "text/x-python",
   "name": "python",
   "nbconvert_exporter": "python",
   "pygments_lexer": "ipython3",
   "version": "3.10.9"
  },
  "orig_nbformat": 4
 },
 "nbformat": 4,
 "nbformat_minor": 2
}
