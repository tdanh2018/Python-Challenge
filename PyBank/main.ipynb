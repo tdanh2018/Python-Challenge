{
 "cells": [
  {
   "cell_type": "code",
   "execution_count": 26,
   "metadata": {},
   "outputs": [],
   "source": [
    "import os\n",
    "import csv"
   ]
  },
  {
   "cell_type": "code",
   "execution_count": 27,
   "metadata": {},
   "outputs": [],
   "source": [
    "filepath = os.path.join('.', 'Resources', 'budget_data.csv')"
   ]
  },
  {
   "cell_type": "code",
   "execution_count": 28,
   "metadata": {},
   "outputs": [],
   "source": [
    "budget_data = []"
   ]
  },
  {
   "cell_type": "code",
   "execution_count": 29,
   "metadata": {},
   "outputs": [],
   "source": [
    "with open(filepath) as csvfile:\n",
    "    reader = csv.DictReader(csvfile)\n",
    "\n",
    "    for row in reader:\n",
    "        budget_data.append({\"month\": row[\"Date\"], \"amount\": int(row[\"Profit/Losses\"]),\"change\": 0})\n",
    "\n"
   ]
  },
  {
   "cell_type": "code",
   "execution_count": 30,
   "metadata": {},
   "outputs": [],
   "source": [
    "total_months = len(budget_data)\n",
    "\n"
   ]
  },
  {
   "cell_type": "code",
   "execution_count": 31,
   "metadata": {},
   "outputs": [],
   "source": [
    "previous_amount = budget_data[0][\"amount\"]\n",
    "for i in range(total_months):\n",
    "    budget_data[i][\"change\"] = budget_data[i][\"amount\"] - previous_amount\n",
    "    prev_amount = budget_data[i][\"amount\"]\n"
   ]
  },
  {
   "cell_type": "code",
   "execution_count": 32,
   "metadata": {},
   "outputs": [],
   "source": [
    "total_amount = sum(row['amount'] for row in budget_data) \n",
    "\n"
   ]
  },
  {
   "cell_type": "code",
   "execution_count": 33,
   "metadata": {},
   "outputs": [],
   "source": [
    "total_change = sum(row['change'] for row in budget_data)\n",
    "average = round(total_change / (total_months-1), 2)"
   ]
  },
  {
   "cell_type": "code",
   "execution_count": 34,
   "metadata": {},
   "outputs": [],
   "source": [
    "get_increase = max(budget_data, key=lambda x:x['change'])\n",
    "get_decrease = min(budget_data, key=lambda x:x['change'])"
   ]
  },
  {
   "cell_type": "code",
   "execution_count": 35,
   "metadata": {},
   "outputs": [
    {
     "name": "stdout",
     "output_type": "stream",
     "text": [
      "Financial Analysis\n",
      "----------------------------\n",
      "Total Months: 86\n",
      "Total: $22564198\n",
      "Average Change: $-836333.41\n",
      "Greatest Increase in Profits: Mar-13 ($52857)\n",
      "Greatest Decrease in Profits: Dec-10 ($-2283116)\n"
     ]
    }
   ],
   "source": [
    "print('Financial Analysis')\n",
    "print('----------------------------')\n",
    "print(f'Total Months: {total_months}')\n",
    "print(f'Total: ${total_amount}')\n",
    "print(f'Average Change: ${average}')\n",
    "print(f'Greatest Increase in Profits: {get_increase[\"month\"]} (${get_increase[\"change\"]})')\n",
    "print(f'Greatest Decrease in Profits: {get_decrease[\"month\"]} (${get_decrease[\"change\"]})')\n"
   ]
  },
  {
   "cell_type": "code",
   "execution_count": 36,
   "metadata": {},
   "outputs": [],
   "source": [
    "filepath = os.path.join('.', 'Resources', 'PyBank_Results.txt')\n",
    "with open(filepath, \"w\") as text_file:\n",
    "    print('Financial Analysis', file=text_file)\n",
    "    print('----------------------------', file=text_file)\n",
    "    print(f'Total Months: {total_months}', file=text_file)\n",
    "    print(f'Total: ${total_amount}', file=text_file)\n",
    "    print(f'Average Change: ${average}', file=text_file)\n",
    "    print(f'Greatest Increase in Profits: {get_increase[\"month\"]} (${get_increase[\"change\"]})', file=text_file)\n",
    "    print(f'Greatest Decrease in Profits: {get_decrease[\"month\"]} (${get_decrease[\"change\"]})', file=text_file)\n"
   ]
  }
 ],
 "metadata": {
  "kernelspec": {
   "display_name": "base",
   "language": "python",
   "name": "python3"
  },
  "language_info": {
   "codemirror_mode": {
    "name": "ipython",
    "version": 3
   },
   "file_extension": ".py",
   "mimetype": "text/x-python",
   "name": "python",
   "nbconvert_exporter": "python",
   "pygments_lexer": "ipython3",
   "version": "3.10.9"
  },
  "orig_nbformat": 4
 },
 "nbformat": 4,
 "nbformat_minor": 2
}
